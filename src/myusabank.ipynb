{
 "cells": [
  {
   "cell_type": "code",
   "execution_count": 7,
   "metadata": {},
   "outputs": [],
   "source": [
    "import pandas as pd\n",
    "import numpy as np"
   ]
  },
  {
   "cell_type": "markdown",
   "metadata": {},
   "source": [
    "Raw data pull from csv file."
   ]
  },
  {
   "cell_type": "code",
   "execution_count": 4,
   "metadata": {},
   "outputs": [],
   "source": [
    "bank_data = pd.read_csv('../data/myusabank.csv')"
   ]
  },
  {
   "cell_type": "markdown",
   "metadata": {},
   "source": [
    "Check Data"
   ]
  },
  {
   "cell_type": "code",
   "execution_count": 5,
   "metadata": {},
   "outputs": [
    {
     "data": {
      "text/html": [
       "<div>\n",
       "<style scoped>\n",
       "    .dataframe tbody tr th:only-of-type {\n",
       "        vertical-align: middle;\n",
       "    }\n",
       "\n",
       "    .dataframe tbody tr th {\n",
       "        vertical-align: top;\n",
       "    }\n",
       "\n",
       "    .dataframe thead th {\n",
       "        text-align: right;\n",
       "    }\n",
       "</style>\n",
       "<table border=\"1\" class=\"dataframe\">\n",
       "  <thead>\n",
       "    <tr style=\"text-align: right;\">\n",
       "      <th></th>\n",
       "      <th>Date</th>\n",
       "      <th>Interest_Income</th>\n",
       "      <th>Interest_Expense</th>\n",
       "      <th>Average_Earning_Assets</th>\n",
       "      <th>Net_Income</th>\n",
       "      <th>Total_Assets</th>\n",
       "      <th>Shareholder_Equity</th>\n",
       "      <th>Operating_Expenses</th>\n",
       "      <th>Operating_Income</th>\n",
       "      <th>Market_Share</th>\n",
       "      <th>Stock_Price</th>\n",
       "    </tr>\n",
       "  </thead>\n",
       "  <tbody>\n",
       "    <tr>\n",
       "      <th>0</th>\n",
       "      <td>1/3/2022</td>\n",
       "      <td>2121958.0</td>\n",
       "      <td>773237</td>\n",
       "      <td>55001045</td>\n",
       "      <td>1572212.0</td>\n",
       "      <td>95404302</td>\n",
       "      <td>23496605</td>\n",
       "      <td>811672</td>\n",
       "      <td>3494178</td>\n",
       "      <td>24</td>\n",
       "      <td>128</td>\n",
       "    </tr>\n",
       "    <tr>\n",
       "      <th>1</th>\n",
       "      <td>1/4/2022</td>\n",
       "      <td>2671155.0</td>\n",
       "      <td>518070</td>\n",
       "      <td>54463418</td>\n",
       "      <td>1336326.0</td>\n",
       "      <td>86440010</td>\n",
       "      <td>24948600</td>\n",
       "      <td>1030817</td>\n",
       "      <td>3231496</td>\n",
       "      <td>20</td>\n",
       "      <td>63</td>\n",
       "    </tr>\n",
       "    <tr>\n",
       "      <th>2</th>\n",
       "      <td>1/5/2022</td>\n",
       "      <td>2131932.0</td>\n",
       "      <td>797921</td>\n",
       "      <td>59771802</td>\n",
       "      <td>1224137.0</td>\n",
       "      <td>88674163</td>\n",
       "      <td>26416438</td>\n",
       "      <td>1345961</td>\n",
       "      <td>3692148</td>\n",
       "      <td>22</td>\n",
       "      <td>196</td>\n",
       "    </tr>\n",
       "    <tr>\n",
       "      <th>3</th>\n",
       "      <td>1/6/2022</td>\n",
       "      <td>2365838.0</td>\n",
       "      <td>556958</td>\n",
       "      <td>54345760</td>\n",
       "      <td>1452268.0</td>\n",
       "      <td>97221407</td>\n",
       "      <td>29694095</td>\n",
       "      <td>1289921</td>\n",
       "      <td>4779685</td>\n",
       "      <td>14</td>\n",
       "      <td>177</td>\n",
       "    </tr>\n",
       "    <tr>\n",
       "      <th>4</th>\n",
       "      <td>1/7/2022</td>\n",
       "      <td>2259178.0</td>\n",
       "      <td>1746222</td>\n",
       "      <td>57153768</td>\n",
       "      <td>3858336.0</td>\n",
       "      <td>98279553</td>\n",
       "      <td>25311499</td>\n",
       "      <td>1432303</td>\n",
       "      <td>4764985</td>\n",
       "      <td>10</td>\n",
       "      <td>103</td>\n",
       "    </tr>\n",
       "  </tbody>\n",
       "</table>\n",
       "</div>"
      ],
      "text/plain": [
       "       Date  Interest_Income  Interest_Expense  Average_Earning_Assets  \\\n",
       "0  1/3/2022        2121958.0            773237                55001045   \n",
       "1  1/4/2022        2671155.0            518070                54463418   \n",
       "2  1/5/2022        2131932.0            797921                59771802   \n",
       "3  1/6/2022        2365838.0            556958                54345760   \n",
       "4  1/7/2022        2259178.0           1746222                57153768   \n",
       "\n",
       "   Net_Income  Total_Assets  Shareholder_Equity  Operating_Expenses  \\\n",
       "0   1572212.0      95404302            23496605              811672   \n",
       "1   1336326.0      86440010            24948600             1030817   \n",
       "2   1224137.0      88674163            26416438             1345961   \n",
       "3   1452268.0      97221407            29694095             1289921   \n",
       "4   3858336.0      98279553            25311499             1432303   \n",
       "\n",
       "   Operating_Income  Market_Share  Stock_Price  \n",
       "0           3494178            24          128  \n",
       "1           3231496            20           63  \n",
       "2           3692148            22          196  \n",
       "3           4779685            14          177  \n",
       "4           4764985            10          103  "
      ]
     },
     "execution_count": 5,
     "metadata": {},
     "output_type": "execute_result"
    }
   ],
   "source": [
    "bank_data.head()"
   ]
  },
  {
   "cell_type": "markdown",
   "metadata": {},
   "source": [
    "Check the tail"
   ]
  },
  {
   "cell_type": "code",
   "execution_count": 6,
   "metadata": {},
   "outputs": [
    {
     "data": {
      "text/html": [
       "<div>\n",
       "<style scoped>\n",
       "    .dataframe tbody tr th:only-of-type {\n",
       "        vertical-align: middle;\n",
       "    }\n",
       "\n",
       "    .dataframe tbody tr th {\n",
       "        vertical-align: top;\n",
       "    }\n",
       "\n",
       "    .dataframe thead th {\n",
       "        text-align: right;\n",
       "    }\n",
       "</style>\n",
       "<table border=\"1\" class=\"dataframe\">\n",
       "  <thead>\n",
       "    <tr style=\"text-align: right;\">\n",
       "      <th></th>\n",
       "      <th>Date</th>\n",
       "      <th>Interest_Income</th>\n",
       "      <th>Interest_Expense</th>\n",
       "      <th>Average_Earning_Assets</th>\n",
       "      <th>Net_Income</th>\n",
       "      <th>Total_Assets</th>\n",
       "      <th>Shareholder_Equity</th>\n",
       "      <th>Operating_Expenses</th>\n",
       "      <th>Operating_Income</th>\n",
       "      <th>Market_Share</th>\n",
       "      <th>Stock_Price</th>\n",
       "    </tr>\n",
       "  </thead>\n",
       "  <tbody>\n",
       "    <tr>\n",
       "      <th>518</th>\n",
       "      <td>3/3/2023</td>\n",
       "      <td>2513153.0</td>\n",
       "      <td>551934</td>\n",
       "      <td>55397662</td>\n",
       "      <td>1554736.0</td>\n",
       "      <td>96040922</td>\n",
       "      <td>21265898</td>\n",
       "      <td>1068252</td>\n",
       "      <td>4022145</td>\n",
       "      <td>18</td>\n",
       "      <td>169</td>\n",
       "    </tr>\n",
       "    <tr>\n",
       "      <th>519</th>\n",
       "      <td>8/23/2022</td>\n",
       "      <td>NaN</td>\n",
       "      <td>866329</td>\n",
       "      <td>50421240</td>\n",
       "      <td>NaN</td>\n",
       "      <td>82229180</td>\n",
       "      <td>21551330</td>\n",
       "      <td>921373</td>\n",
       "      <td>3842210</td>\n",
       "      <td>23</td>\n",
       "      <td>53</td>\n",
       "    </tr>\n",
       "    <tr>\n",
       "      <th>520</th>\n",
       "      <td>5/4/2022</td>\n",
       "      <td>2106530.0</td>\n",
       "      <td>736175</td>\n",
       "      <td>51910705</td>\n",
       "      <td>1331770.0</td>\n",
       "      <td>98827165</td>\n",
       "      <td>29454531</td>\n",
       "      <td>973260</td>\n",
       "      <td>3833525</td>\n",
       "      <td>20</td>\n",
       "      <td>123</td>\n",
       "    </tr>\n",
       "    <tr>\n",
       "      <th>521</th>\n",
       "      <td>1/18/2023</td>\n",
       "      <td>2879989.0</td>\n",
       "      <td>561476</td>\n",
       "      <td>52562469</td>\n",
       "      <td>1810694.0</td>\n",
       "      <td>83138744</td>\n",
       "      <td>25418952</td>\n",
       "      <td>1141416</td>\n",
       "      <td>4241968</td>\n",
       "      <td>26</td>\n",
       "      <td>142</td>\n",
       "    </tr>\n",
       "    <tr>\n",
       "      <th>522</th>\n",
       "      <td>3/23/2023</td>\n",
       "      <td>2811774.0</td>\n",
       "      <td>737027</td>\n",
       "      <td>58204298</td>\n",
       "      <td>1793719.0</td>\n",
       "      <td>82627144</td>\n",
       "      <td>22164412</td>\n",
       "      <td>1160244</td>\n",
       "      <td>4478768</td>\n",
       "      <td>14</td>\n",
       "      <td>106</td>\n",
       "    </tr>\n",
       "  </tbody>\n",
       "</table>\n",
       "</div>"
      ],
      "text/plain": [
       "          Date  Interest_Income  Interest_Expense  Average_Earning_Assets  \\\n",
       "518   3/3/2023        2513153.0            551934                55397662   \n",
       "519  8/23/2022              NaN            866329                50421240   \n",
       "520   5/4/2022        2106530.0            736175                51910705   \n",
       "521  1/18/2023        2879989.0            561476                52562469   \n",
       "522  3/23/2023        2811774.0            737027                58204298   \n",
       "\n",
       "     Net_Income  Total_Assets  Shareholder_Equity  Operating_Expenses  \\\n",
       "518   1554736.0      96040922            21265898             1068252   \n",
       "519         NaN      82229180            21551330              921373   \n",
       "520   1331770.0      98827165            29454531              973260   \n",
       "521   1810694.0      83138744            25418952             1141416   \n",
       "522   1793719.0      82627144            22164412             1160244   \n",
       "\n",
       "     Operating_Income  Market_Share  Stock_Price  \n",
       "518           4022145            18          169  \n",
       "519           3842210            23           53  \n",
       "520           3833525            20          123  \n",
       "521           4241968            26          142  \n",
       "522           4478768            14          106  "
      ]
     },
     "execution_count": 6,
     "metadata": {},
     "output_type": "execute_result"
    }
   ],
   "source": [
    "bank_data.tail(5)\n"
   ]
  },
  {
   "cell_type": "code",
   "execution_count": 9,
   "metadata": {},
   "outputs": [
    {
     "data": {
      "text/html": [
       "<div>\n",
       "<style scoped>\n",
       "    .dataframe tbody tr th:only-of-type {\n",
       "        vertical-align: middle;\n",
       "    }\n",
       "\n",
       "    .dataframe tbody tr th {\n",
       "        vertical-align: top;\n",
       "    }\n",
       "\n",
       "    .dataframe thead th {\n",
       "        text-align: right;\n",
       "    }\n",
       "</style>\n",
       "<table border=\"1\" class=\"dataframe\">\n",
       "  <thead>\n",
       "    <tr style=\"text-align: right;\">\n",
       "      <th></th>\n",
       "      <th>Date</th>\n",
       "      <th>Interest_Income</th>\n",
       "      <th>Interest_Expense</th>\n",
       "      <th>Average_Earning_Assets</th>\n",
       "      <th>Net_Income</th>\n",
       "      <th>Total_Assets</th>\n",
       "      <th>Shareholder_Equity</th>\n",
       "      <th>Operating_Expenses</th>\n",
       "      <th>Operating_Income</th>\n",
       "      <th>Market_Share</th>\n",
       "      <th>Stock_Price</th>\n",
       "    </tr>\n",
       "  </thead>\n",
       "  <tbody>\n",
       "    <tr>\n",
       "      <th>0</th>\n",
       "      <td>1/3/2022</td>\n",
       "      <td>2121958.0</td>\n",
       "      <td>773237</td>\n",
       "      <td>55001045</td>\n",
       "      <td>1572212.0</td>\n",
       "      <td>95404302</td>\n",
       "      <td>23496605</td>\n",
       "      <td>811672</td>\n",
       "      <td>3494178</td>\n",
       "      <td>24</td>\n",
       "      <td>128</td>\n",
       "    </tr>\n",
       "    <tr>\n",
       "      <th>1</th>\n",
       "      <td>1/4/2022</td>\n",
       "      <td>2671155.0</td>\n",
       "      <td>518070</td>\n",
       "      <td>54463418</td>\n",
       "      <td>1336326.0</td>\n",
       "      <td>86440010</td>\n",
       "      <td>24948600</td>\n",
       "      <td>1030817</td>\n",
       "      <td>3231496</td>\n",
       "      <td>20</td>\n",
       "      <td>63</td>\n",
       "    </tr>\n",
       "    <tr>\n",
       "      <th>2</th>\n",
       "      <td>1/5/2022</td>\n",
       "      <td>2131932.0</td>\n",
       "      <td>797921</td>\n",
       "      <td>59771802</td>\n",
       "      <td>1224137.0</td>\n",
       "      <td>88674163</td>\n",
       "      <td>26416438</td>\n",
       "      <td>1345961</td>\n",
       "      <td>3692148</td>\n",
       "      <td>22</td>\n",
       "      <td>196</td>\n",
       "    </tr>\n",
       "    <tr>\n",
       "      <th>3</th>\n",
       "      <td>1/6/2022</td>\n",
       "      <td>2365838.0</td>\n",
       "      <td>556958</td>\n",
       "      <td>54345760</td>\n",
       "      <td>1452268.0</td>\n",
       "      <td>97221407</td>\n",
       "      <td>29694095</td>\n",
       "      <td>1289921</td>\n",
       "      <td>4779685</td>\n",
       "      <td>14</td>\n",
       "      <td>177</td>\n",
       "    </tr>\n",
       "    <tr>\n",
       "      <th>4</th>\n",
       "      <td>1/7/2022</td>\n",
       "      <td>2259178.0</td>\n",
       "      <td>1746222</td>\n",
       "      <td>57153768</td>\n",
       "      <td>3858336.0</td>\n",
       "      <td>98279553</td>\n",
       "      <td>25311499</td>\n",
       "      <td>1432303</td>\n",
       "      <td>4764985</td>\n",
       "      <td>10</td>\n",
       "      <td>103</td>\n",
       "    </tr>\n",
       "  </tbody>\n",
       "</table>\n",
       "</div>"
      ],
      "text/plain": [
       "       Date  Interest_Income  Interest_Expense  Average_Earning_Assets  \\\n",
       "0  1/3/2022        2121958.0            773237                55001045   \n",
       "1  1/4/2022        2671155.0            518070                54463418   \n",
       "2  1/5/2022        2131932.0            797921                59771802   \n",
       "3  1/6/2022        2365838.0            556958                54345760   \n",
       "4  1/7/2022        2259178.0           1746222                57153768   \n",
       "\n",
       "   Net_Income  Total_Assets  Shareholder_Equity  Operating_Expenses  \\\n",
       "0   1572212.0      95404302            23496605              811672   \n",
       "1   1336326.0      86440010            24948600             1030817   \n",
       "2   1224137.0      88674163            26416438             1345961   \n",
       "3   1452268.0      97221407            29694095             1289921   \n",
       "4   3858336.0      98279553            25311499             1432303   \n",
       "\n",
       "   Operating_Income  Market_Share  Stock_Price  \n",
       "0           3494178            24          128  \n",
       "1           3231496            20           63  \n",
       "2           3692148            22          196  \n",
       "3           4779685            14          177  \n",
       "4           4764985            10          103  "
      ]
     },
     "execution_count": 9,
     "metadata": {},
     "output_type": "execute_result"
    }
   ],
   "source": [
    "df = pd.read_csv('../data/myusabank.csv')\n",
    "df.head(5)"
   ]
  },
  {
   "cell_type": "markdown",
   "metadata": {},
   "source": [
    "Find  Columns and Rows."
   ]
  },
  {
   "cell_type": "code",
   "execution_count": 10,
   "metadata": {},
   "outputs": [
    {
     "data": {
      "text/plain": [
       "(523, 11)"
      ]
     },
     "execution_count": 10,
     "metadata": {},
     "output_type": "execute_result"
    }
   ],
   "source": [
    "df.shape"
   ]
  },
  {
   "cell_type": "markdown",
   "metadata": {},
   "source": [
    "Find Total null values."
   ]
  },
  {
   "cell_type": "code",
   "execution_count": 11,
   "metadata": {},
   "outputs": [
    {
     "data": {
      "text/plain": [
       "Date                       0\n",
       "Interest_Income           52\n",
       "Interest_Expense           0\n",
       "Average_Earning_Assets     0\n",
       "Net_Income                52\n",
       "Total_Assets               0\n",
       "Shareholder_Equity         0\n",
       "Operating_Expenses         0\n",
       "Operating_Income           0\n",
       "Market_Share               0\n",
       "Stock_Price                0\n",
       "dtype: int64"
      ]
     },
     "execution_count": 11,
     "metadata": {},
     "output_type": "execute_result"
    }
   ],
   "source": [
    "df.isnull().sum()"
   ]
  },
  {
   "cell_type": "markdown",
   "metadata": {},
   "source": [
    "Find all columns name."
   ]
  },
  {
   "cell_type": "code",
   "execution_count": 12,
   "metadata": {},
   "outputs": [
    {
     "data": {
      "text/plain": [
       "Index(['Date', 'Interest_Income', 'Interest_Expense', 'Average_Earning_Assets',\n",
       "       'Net_Income', 'Total_Assets', 'Shareholder_Equity',\n",
       "       'Operating_Expenses', 'Operating_Income', 'Market_Share',\n",
       "       'Stock_Price'],\n",
       "      dtype='object')"
      ]
     },
     "execution_count": 12,
     "metadata": {},
     "output_type": "execute_result"
    }
   ],
   "source": [
    "df.columns"
   ]
  },
  {
   "cell_type": "markdown",
   "metadata": {},
   "source": [
    "Remove columns."
   ]
  },
  {
   "cell_type": "code",
   "execution_count": 13,
   "metadata": {},
   "outputs": [],
   "source": [
    "df.drop(['Date'], axis = 1, inplace = True )"
   ]
  },
  {
   "cell_type": "markdown",
   "metadata": {},
   "source": [
    "Check columns name after drop some columns."
   ]
  },
  {
   "cell_type": "code",
   "execution_count": 14,
   "metadata": {},
   "outputs": [
    {
     "data": {
      "text/plain": [
       "Index(['Interest_Income', 'Interest_Expense', 'Average_Earning_Assets',\n",
       "       'Net_Income', 'Total_Assets', 'Shareholder_Equity',\n",
       "       'Operating_Expenses', 'Operating_Income', 'Market_Share',\n",
       "       'Stock_Price'],\n",
       "      dtype='object')"
      ]
     },
     "execution_count": 14,
     "metadata": {},
     "output_type": "execute_result"
    }
   ],
   "source": [
    "df.columns"
   ]
  },
  {
   "cell_type": "markdown",
   "metadata": {},
   "source": [
    "Data Type"
   ]
  },
  {
   "cell_type": "code",
   "execution_count": 15,
   "metadata": {},
   "outputs": [
    {
     "data": {
      "text/plain": [
       "Interest_Income           float64\n",
       "Interest_Expense            int64\n",
       "Average_Earning_Assets      int64\n",
       "Net_Income                float64\n",
       "Total_Assets                int64\n",
       "Shareholder_Equity          int64\n",
       "Operating_Expenses          int64\n",
       "Operating_Income            int64\n",
       "Market_Share                int64\n",
       "Stock_Price                 int64\n",
       "dtype: object"
      ]
     },
     "execution_count": 15,
     "metadata": {},
     "output_type": "execute_result"
    }
   ],
   "source": [
    "df.dtypes"
   ]
  },
  {
   "cell_type": "markdown",
   "metadata": {},
   "source": [
    "Check skewness "
   ]
  },
  {
   "cell_type": "code",
   "execution_count": 16,
   "metadata": {},
   "outputs": [
    {
     "data": {
      "text/plain": [
       "Interest_Income           0.065292\n",
       "Interest_Expense          3.561896\n",
       "Average_Earning_Assets   -0.009128\n",
       "Net_Income                2.591775\n",
       "Total_Assets              0.037376\n",
       "Shareholder_Equity        0.175092\n",
       "Operating_Expenses        0.049754\n",
       "Operating_Income          0.014841\n",
       "Market_Share              0.008219\n",
       "Stock_Price               0.024337\n",
       "dtype: float64"
      ]
     },
     "execution_count": 16,
     "metadata": {},
     "output_type": "execute_result"
    }
   ],
   "source": [
    "df.skew()"
   ]
  }
 ],
 "metadata": {
  "kernelspec": {
   "display_name": "venv",
   "language": "python",
   "name": "python3"
  },
  "language_info": {
   "codemirror_mode": {
    "name": "ipython",
    "version": 3
   },
   "file_extension": ".py",
   "mimetype": "text/x-python",
   "name": "python",
   "nbconvert_exporter": "python",
   "pygments_lexer": "ipython3",
   "version": "3.12.4"
  }
 },
 "nbformat": 4,
 "nbformat_minor": 2
}
