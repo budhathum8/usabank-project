{
 "cells": [
  {
   "cell_type": "markdown",
   "metadata": {},
   "source": [
    "# Import Libraries and Load the Data"
   ]
  },
  {
   "cell_type": "markdown",
   "metadata": {},
   "source": [
    "## First, import the necessary libraries and load the dataset into a pandas DataFrame."
   ]
  },
  {
   "cell_type": "code",
   "execution_count": 161,
   "metadata": {},
   "outputs": [],
   "source": [
    "import pandas as pd\n",
    "import numpy as np\n",
    "import seaborn as sns\n",
    "import matplotlib.pyplot as plt # For visualizing data.\n",
    "%matplotlib inline\n",
    "import datetime"
   ]
  },
  {
   "cell_type": "markdown",
   "metadata": {},
   "source": [
    "## Load the dataset"
   ]
  },
  {
   "cell_type": "code",
   "execution_count": 162,
   "metadata": {},
   "outputs": [],
   "source": [
    "bank_datadf = pd.read_csv('../data/myusabank.csv')"
   ]
  },
  {
   "cell_type": "markdown",
   "metadata": {},
   "source": [
    "## Preview the dataset"
   ]
  },
  {
   "cell_type": "code",
   "execution_count": 163,
   "metadata": {},
   "outputs": [
    {
     "data": {
      "text/html": [
       "<div>\n",
       "<style scoped>\n",
       "    .dataframe tbody tr th:only-of-type {\n",
       "        vertical-align: middle;\n",
       "    }\n",
       "\n",
       "    .dataframe tbody tr th {\n",
       "        vertical-align: top;\n",
       "    }\n",
       "\n",
       "    .dataframe thead th {\n",
       "        text-align: right;\n",
       "    }\n",
       "</style>\n",
       "<table border=\"1\" class=\"dataframe\">\n",
       "  <thead>\n",
       "    <tr style=\"text-align: right;\">\n",
       "      <th></th>\n",
       "      <th>Date</th>\n",
       "      <th>Interest_Income</th>\n",
       "      <th>Interest_Expense</th>\n",
       "      <th>Average_Earning_Assets</th>\n",
       "      <th>Net_Income</th>\n",
       "      <th>Total_Assets</th>\n",
       "      <th>Shareholder_Equity</th>\n",
       "      <th>Operating_Expenses</th>\n",
       "      <th>Operating_Income</th>\n",
       "      <th>Market_Share</th>\n",
       "      <th>Stock_Price</th>\n",
       "    </tr>\n",
       "  </thead>\n",
       "  <tbody>\n",
       "    <tr>\n",
       "      <th>0</th>\n",
       "      <td>1/3/2022</td>\n",
       "      <td>2121958.0</td>\n",
       "      <td>773237</td>\n",
       "      <td>55001045</td>\n",
       "      <td>1572212.0</td>\n",
       "      <td>95404302</td>\n",
       "      <td>23496605</td>\n",
       "      <td>811672</td>\n",
       "      <td>3494178</td>\n",
       "      <td>24</td>\n",
       "      <td>128</td>\n",
       "    </tr>\n",
       "    <tr>\n",
       "      <th>1</th>\n",
       "      <td>1/4/2022</td>\n",
       "      <td>2671155.0</td>\n",
       "      <td>518070</td>\n",
       "      <td>54463418</td>\n",
       "      <td>1336326.0</td>\n",
       "      <td>86440010</td>\n",
       "      <td>24948600</td>\n",
       "      <td>1030817</td>\n",
       "      <td>3231496</td>\n",
       "      <td>20</td>\n",
       "      <td>63</td>\n",
       "    </tr>\n",
       "    <tr>\n",
       "      <th>2</th>\n",
       "      <td>1/5/2022</td>\n",
       "      <td>2131932.0</td>\n",
       "      <td>797921</td>\n",
       "      <td>59771802</td>\n",
       "      <td>1224137.0</td>\n",
       "      <td>88674163</td>\n",
       "      <td>26416438</td>\n",
       "      <td>1345961</td>\n",
       "      <td>3692148</td>\n",
       "      <td>22</td>\n",
       "      <td>196</td>\n",
       "    </tr>\n",
       "    <tr>\n",
       "      <th>3</th>\n",
       "      <td>1/6/2022</td>\n",
       "      <td>2365838.0</td>\n",
       "      <td>556958</td>\n",
       "      <td>54345760</td>\n",
       "      <td>1452268.0</td>\n",
       "      <td>97221407</td>\n",
       "      <td>29694095</td>\n",
       "      <td>1289921</td>\n",
       "      <td>4779685</td>\n",
       "      <td>14</td>\n",
       "      <td>177</td>\n",
       "    </tr>\n",
       "    <tr>\n",
       "      <th>4</th>\n",
       "      <td>1/7/2022</td>\n",
       "      <td>2259178.0</td>\n",
       "      <td>1746222</td>\n",
       "      <td>57153768</td>\n",
       "      <td>3858336.0</td>\n",
       "      <td>98279553</td>\n",
       "      <td>25311499</td>\n",
       "      <td>1432303</td>\n",
       "      <td>4764985</td>\n",
       "      <td>10</td>\n",
       "      <td>103</td>\n",
       "    </tr>\n",
       "  </tbody>\n",
       "</table>\n",
       "</div>"
      ],
      "text/plain": [
       "       Date  Interest_Income  Interest_Expense  Average_Earning_Assets  \\\n",
       "0  1/3/2022        2121958.0            773237                55001045   \n",
       "1  1/4/2022        2671155.0            518070                54463418   \n",
       "2  1/5/2022        2131932.0            797921                59771802   \n",
       "3  1/6/2022        2365838.0            556958                54345760   \n",
       "4  1/7/2022        2259178.0           1746222                57153768   \n",
       "\n",
       "   Net_Income  Total_Assets  Shareholder_Equity  Operating_Expenses  \\\n",
       "0   1572212.0      95404302            23496605              811672   \n",
       "1   1336326.0      86440010            24948600             1030817   \n",
       "2   1224137.0      88674163            26416438             1345961   \n",
       "3   1452268.0      97221407            29694095             1289921   \n",
       "4   3858336.0      98279553            25311499             1432303   \n",
       "\n",
       "   Operating_Income  Market_Share  Stock_Price  \n",
       "0           3494178            24          128  \n",
       "1           3231496            20           63  \n",
       "2           3692148            22          196  \n",
       "3           4779685            14          177  \n",
       "4           4764985            10          103  "
      ]
     },
     "execution_count": 163,
     "metadata": {},
     "output_type": "execute_result"
    }
   ],
   "source": [
    "df = pd.read_csv('../data/myusabank.csv')\n",
    "df.head(5)"
   ]
  },
  {
   "cell_type": "code",
   "execution_count": 164,
   "metadata": {},
   "outputs": [
    {
     "data": {
      "text/html": [
       "<div>\n",
       "<style scoped>\n",
       "    .dataframe tbody tr th:only-of-type {\n",
       "        vertical-align: middle;\n",
       "    }\n",
       "\n",
       "    .dataframe tbody tr th {\n",
       "        vertical-align: top;\n",
       "    }\n",
       "\n",
       "    .dataframe thead th {\n",
       "        text-align: right;\n",
       "    }\n",
       "</style>\n",
       "<table border=\"1\" class=\"dataframe\">\n",
       "  <thead>\n",
       "    <tr style=\"text-align: right;\">\n",
       "      <th></th>\n",
       "      <th>Date</th>\n",
       "      <th>Interest_Income</th>\n",
       "      <th>Interest_Expense</th>\n",
       "      <th>Average_Earning_Assets</th>\n",
       "      <th>Net_Income</th>\n",
       "      <th>Total_Assets</th>\n",
       "      <th>Shareholder_Equity</th>\n",
       "      <th>Operating_Expenses</th>\n",
       "      <th>Operating_Income</th>\n",
       "      <th>Market_Share</th>\n",
       "      <th>Stock_Price</th>\n",
       "    </tr>\n",
       "  </thead>\n",
       "  <tbody>\n",
       "    <tr>\n",
       "      <th>518</th>\n",
       "      <td>3/3/2023</td>\n",
       "      <td>2513153.0</td>\n",
       "      <td>551934</td>\n",
       "      <td>55397662</td>\n",
       "      <td>1554736.0</td>\n",
       "      <td>96040922</td>\n",
       "      <td>21265898</td>\n",
       "      <td>1068252</td>\n",
       "      <td>4022145</td>\n",
       "      <td>18</td>\n",
       "      <td>169</td>\n",
       "    </tr>\n",
       "    <tr>\n",
       "      <th>519</th>\n",
       "      <td>8/23/2022</td>\n",
       "      <td>NaN</td>\n",
       "      <td>866329</td>\n",
       "      <td>50421240</td>\n",
       "      <td>NaN</td>\n",
       "      <td>82229180</td>\n",
       "      <td>21551330</td>\n",
       "      <td>921373</td>\n",
       "      <td>3842210</td>\n",
       "      <td>23</td>\n",
       "      <td>53</td>\n",
       "    </tr>\n",
       "    <tr>\n",
       "      <th>520</th>\n",
       "      <td>5/4/2022</td>\n",
       "      <td>2106530.0</td>\n",
       "      <td>736175</td>\n",
       "      <td>51910705</td>\n",
       "      <td>1331770.0</td>\n",
       "      <td>98827165</td>\n",
       "      <td>29454531</td>\n",
       "      <td>973260</td>\n",
       "      <td>3833525</td>\n",
       "      <td>20</td>\n",
       "      <td>123</td>\n",
       "    </tr>\n",
       "    <tr>\n",
       "      <th>521</th>\n",
       "      <td>1/18/2023</td>\n",
       "      <td>2879989.0</td>\n",
       "      <td>561476</td>\n",
       "      <td>52562469</td>\n",
       "      <td>1810694.0</td>\n",
       "      <td>83138744</td>\n",
       "      <td>25418952</td>\n",
       "      <td>1141416</td>\n",
       "      <td>4241968</td>\n",
       "      <td>26</td>\n",
       "      <td>142</td>\n",
       "    </tr>\n",
       "    <tr>\n",
       "      <th>522</th>\n",
       "      <td>3/23/2023</td>\n",
       "      <td>2811774.0</td>\n",
       "      <td>737027</td>\n",
       "      <td>58204298</td>\n",
       "      <td>1793719.0</td>\n",
       "      <td>82627144</td>\n",
       "      <td>22164412</td>\n",
       "      <td>1160244</td>\n",
       "      <td>4478768</td>\n",
       "      <td>14</td>\n",
       "      <td>106</td>\n",
       "    </tr>\n",
       "  </tbody>\n",
       "</table>\n",
       "</div>"
      ],
      "text/plain": [
       "          Date  Interest_Income  Interest_Expense  Average_Earning_Assets  \\\n",
       "518   3/3/2023        2513153.0            551934                55397662   \n",
       "519  8/23/2022              NaN            866329                50421240   \n",
       "520   5/4/2022        2106530.0            736175                51910705   \n",
       "521  1/18/2023        2879989.0            561476                52562469   \n",
       "522  3/23/2023        2811774.0            737027                58204298   \n",
       "\n",
       "     Net_Income  Total_Assets  Shareholder_Equity  Operating_Expenses  \\\n",
       "518   1554736.0      96040922            21265898             1068252   \n",
       "519         NaN      82229180            21551330              921373   \n",
       "520   1331770.0      98827165            29454531              973260   \n",
       "521   1810694.0      83138744            25418952             1141416   \n",
       "522   1793719.0      82627144            22164412             1160244   \n",
       "\n",
       "     Operating_Income  Market_Share  Stock_Price  \n",
       "518           4022145            18          169  \n",
       "519           3842210            23           53  \n",
       "520           3833525            20          123  \n",
       "521           4241968            26          142  \n",
       "522           4478768            14          106  "
      ]
     },
     "execution_count": 164,
     "metadata": {},
     "output_type": "execute_result"
    }
   ],
   "source": [
    "df.tail(5)"
   ]
  },
  {
   "cell_type": "markdown",
   "metadata": {},
   "source": [
    "## Find data information"
   ]
  },
  {
   "cell_type": "code",
   "execution_count": 165,
   "metadata": {},
   "outputs": [
    {
     "name": "stdout",
     "output_type": "stream",
     "text": [
      "<class 'pandas.core.frame.DataFrame'>\n",
      "RangeIndex: 523 entries, 0 to 522\n",
      "Data columns (total 11 columns):\n",
      " #   Column                  Non-Null Count  Dtype  \n",
      "---  ------                  --------------  -----  \n",
      " 0   Date                    523 non-null    object \n",
      " 1   Interest_Income         471 non-null    float64\n",
      " 2   Interest_Expense        523 non-null    int64  \n",
      " 3   Average_Earning_Assets  523 non-null    int64  \n",
      " 4   Net_Income              471 non-null    float64\n",
      " 5   Total_Assets            523 non-null    int64  \n",
      " 6   Shareholder_Equity      523 non-null    int64  \n",
      " 7   Operating_Expenses      523 non-null    int64  \n",
      " 8   Operating_Income        523 non-null    int64  \n",
      " 9   Market_Share            523 non-null    int64  \n",
      " 10  Stock_Price             523 non-null    int64  \n",
      "dtypes: float64(2), int64(8), object(1)\n",
      "memory usage: 45.1+ KB\n"
     ]
    }
   ],
   "source": [
    "df.info()"
   ]
  },
  {
   "cell_type": "markdown",
   "metadata": {},
   "source": [
    "## Find  Columns and Rows"
   ]
  },
  {
   "cell_type": "code",
   "execution_count": 166,
   "metadata": {},
   "outputs": [
    {
     "data": {
      "text/plain": [
       "(523, 11)"
      ]
     },
     "execution_count": 166,
     "metadata": {},
     "output_type": "execute_result"
    }
   ],
   "source": [
    "df.shape"
   ]
  },
  {
   "cell_type": "markdown",
   "metadata": {},
   "source": [
    "# Data Cleaning and Preprocessing\n",
    " "
   ]
  },
  {
   "cell_type": "markdown",
   "metadata": {},
   "source": [
    "## Check for null values"
   ]
  },
  {
   "cell_type": "code",
   "execution_count": 167,
   "metadata": {},
   "outputs": [
    {
     "name": "stdout",
     "output_type": "stream",
     "text": [
      "Date                       0\n",
      "Interest_Income           52\n",
      "Interest_Expense           0\n",
      "Average_Earning_Assets     0\n",
      "Net_Income                52\n",
      "Total_Assets               0\n",
      "Shareholder_Equity         0\n",
      "Operating_Expenses         0\n",
      "Operating_Income           0\n",
      "Market_Share               0\n",
      "Stock_Price                0\n",
      "dtype: int64\n"
     ]
    }
   ],
   "source": [
    "df.isnull().sum()\n",
    "print(df.isnull().sum())"
   ]
  },
  {
   "cell_type": "markdown",
   "metadata": {},
   "source": [
    "### Drop null values"
   ]
  },
  {
   "cell_type": "code",
   "execution_count": 168,
   "metadata": {},
   "outputs": [],
   "source": [
    "df.dropna(inplace = True)"
   ]
  },
  {
   "cell_type": "markdown",
   "metadata": {},
   "source": [
    "### Check for null values after Drop null values if any"
   ]
  },
  {
   "cell_type": "code",
   "execution_count": 169,
   "metadata": {},
   "outputs": [
    {
     "data": {
      "text/plain": [
       "(471, 11)"
      ]
     },
     "execution_count": 169,
     "metadata": {},
     "output_type": "execute_result"
    }
   ],
   "source": [
    "#df.isnull().sum()\n",
    "#print(df.isnull().sum())\n",
    "df.shape"
   ]
  },
  {
   "cell_type": "markdown",
   "metadata": {},
   "source": [
    "## Handling Duplicates \n",
    "Check for duplicates and remove them if present"
   ]
  },
  {
   "cell_type": "markdown",
   "metadata": {},
   "source": [
    "### Check duplicates"
   ]
  },
  {
   "cell_type": "code",
   "execution_count": 170,
   "metadata": {},
   "outputs": [
    {
     "name": "stdout",
     "output_type": "stream",
     "text": [
      "Number of duplicate rows: 21\n"
     ]
    }
   ],
   "source": [
    "#df.duplicated().sum()\n",
    "duplicates = df.duplicated().sum()\n",
    "print(f\"Number of duplicate rows: {duplicates}\")"
   ]
  },
  {
   "cell_type": "markdown",
   "metadata": {},
   "source": [
    "### Remove duplicates"
   ]
  },
  {
   "cell_type": "code",
   "execution_count": 171,
   "metadata": {},
   "outputs": [],
   "source": [
    "df = df.drop_duplicates()"
   ]
  },
  {
   "cell_type": "markdown",
   "metadata": {},
   "source": [
    "### Check duplicates if any"
   ]
  },
  {
   "cell_type": "code",
   "execution_count": 172,
   "metadata": {},
   "outputs": [
    {
     "data": {
      "text/plain": [
       "np.int64(0)"
      ]
     },
     "execution_count": 172,
     "metadata": {},
     "output_type": "execute_result"
    }
   ],
   "source": [
    "df.duplicated().sum()\n",
    "#duplicates = df.duplicated().sum()\n",
    "#print(f\"Number of duplicate rows: {duplicates}\")"
   ]
  },
  {
   "cell_type": "markdown",
   "metadata": {},
   "source": [
    "## Find all columns name"
   ]
  },
  {
   "cell_type": "code",
   "execution_count": 173,
   "metadata": {},
   "outputs": [
    {
     "data": {
      "text/plain": [
       "Index(['Date', 'Interest_Income', 'Interest_Expense', 'Average_Earning_Assets',\n",
       "       'Net_Income', 'Total_Assets', 'Shareholder_Equity',\n",
       "       'Operating_Expenses', 'Operating_Income', 'Market_Share',\n",
       "       'Stock_Price'],\n",
       "      dtype='object')"
      ]
     },
     "execution_count": 173,
     "metadata": {},
     "output_type": "execute_result"
    }
   ],
   "source": [
    "df.columns"
   ]
  },
  {
   "cell_type": "markdown",
   "metadata": {},
   "source": [
    "## Check Data Type"
   ]
  },
  {
   "cell_type": "code",
   "execution_count": 174,
   "metadata": {},
   "outputs": [
    {
     "data": {
      "text/plain": [
       "Date                       object\n",
       "Interest_Income           float64\n",
       "Interest_Expense            int64\n",
       "Average_Earning_Assets      int64\n",
       "Net_Income                float64\n",
       "Total_Assets                int64\n",
       "Shareholder_Equity          int64\n",
       "Operating_Expenses          int64\n",
       "Operating_Income            int64\n",
       "Market_Share                int64\n",
       "Stock_Price                 int64\n",
       "dtype: object"
      ]
     },
     "execution_count": 174,
     "metadata": {},
     "output_type": "execute_result"
    }
   ],
   "source": [
    "df.dtypes"
   ]
  },
  {
   "cell_type": "markdown",
   "metadata": {},
   "source": [
    "### Check skewness "
   ]
  },
  {
   "cell_type": "code",
   "execution_count": 175,
   "metadata": {},
   "outputs": [
    {
     "data": {
      "text/plain": [
       "Interest_Income           0.066883\n",
       "Interest_Expense          3.670733\n",
       "Average_Earning_Assets   -0.033531\n",
       "Net_Income                2.599736\n",
       "Total_Assets              0.007236\n",
       "Shareholder_Equity        0.159052\n",
       "Operating_Expenses        0.040829\n",
       "Operating_Income          0.059995\n",
       "Market_Share              0.014802\n",
       "Stock_Price               0.021435\n",
       "dtype: float64"
      ]
     },
     "execution_count": 175,
     "metadata": {},
     "output_type": "execute_result"
    }
   ],
   "source": [
    "df.skew(numeric_only = 'True')"
   ]
  },
  {
   "cell_type": "markdown",
   "metadata": {},
   "source": [
    "Describe() method returns description of the data in the data DataFrame."
   ]
  },
  {
   "cell_type": "code",
   "execution_count": 176,
   "metadata": {},
   "outputs": [
    {
     "data": {
      "text/html": [
       "<div>\n",
       "<style scoped>\n",
       "    .dataframe tbody tr th:only-of-type {\n",
       "        vertical-align: middle;\n",
       "    }\n",
       "\n",
       "    .dataframe tbody tr th {\n",
       "        vertical-align: top;\n",
       "    }\n",
       "\n",
       "    .dataframe thead th {\n",
       "        text-align: right;\n",
       "    }\n",
       "</style>\n",
       "<table border=\"1\" class=\"dataframe\">\n",
       "  <thead>\n",
       "    <tr style=\"text-align: right;\">\n",
       "      <th></th>\n",
       "      <th>Interest_Income</th>\n",
       "      <th>Interest_Expense</th>\n",
       "      <th>Average_Earning_Assets</th>\n",
       "      <th>Net_Income</th>\n",
       "      <th>Total_Assets</th>\n",
       "      <th>Shareholder_Equity</th>\n",
       "      <th>Operating_Expenses</th>\n",
       "      <th>Operating_Income</th>\n",
       "      <th>Market_Share</th>\n",
       "      <th>Stock_Price</th>\n",
       "    </tr>\n",
       "  </thead>\n",
       "  <tbody>\n",
       "    <tr>\n",
       "      <th>count</th>\n",
       "      <td>4.500000e+02</td>\n",
       "      <td>4.500000e+02</td>\n",
       "      <td>4.500000e+02</td>\n",
       "      <td>4.500000e+02</td>\n",
       "      <td>4.500000e+02</td>\n",
       "      <td>4.500000e+02</td>\n",
       "      <td>4.500000e+02</td>\n",
       "      <td>4.500000e+02</td>\n",
       "      <td>450.000000</td>\n",
       "      <td>450.000000</td>\n",
       "    </tr>\n",
       "    <tr>\n",
       "      <th>mean</th>\n",
       "      <td>2.493105e+06</td>\n",
       "      <td>7.901872e+05</td>\n",
       "      <td>5.514276e+07</td>\n",
       "      <td>1.589052e+06</td>\n",
       "      <td>8.991146e+07</td>\n",
       "      <td>2.482550e+07</td>\n",
       "      <td>1.099544e+06</td>\n",
       "      <td>3.985466e+06</td>\n",
       "      <td>19.464444</td>\n",
       "      <td>126.066667</td>\n",
       "    </tr>\n",
       "    <tr>\n",
       "      <th>std</th>\n",
       "      <td>2.926169e+05</td>\n",
       "      <td>3.295992e+05</td>\n",
       "      <td>2.887246e+06</td>\n",
       "      <td>4.878065e+05</td>\n",
       "      <td>5.594602e+06</td>\n",
       "      <td>2.857464e+06</td>\n",
       "      <td>2.243381e+05</td>\n",
       "      <td>5.802948e+05</td>\n",
       "      <td>5.755588</td>\n",
       "      <td>42.620091</td>\n",
       "    </tr>\n",
       "    <tr>\n",
       "      <th>min</th>\n",
       "      <td>2.002869e+06</td>\n",
       "      <td>5.010150e+05</td>\n",
       "      <td>5.006432e+07</td>\n",
       "      <td>1.007906e+06</td>\n",
       "      <td>8.010073e+07</td>\n",
       "      <td>2.001968e+07</td>\n",
       "      <td>7.065300e+05</td>\n",
       "      <td>3.000159e+06</td>\n",
       "      <td>10.000000</td>\n",
       "      <td>50.000000</td>\n",
       "    </tr>\n",
       "    <tr>\n",
       "      <th>25%</th>\n",
       "      <td>2.235993e+06</td>\n",
       "      <td>6.129992e+05</td>\n",
       "      <td>5.269445e+07</td>\n",
       "      <td>1.260571e+06</td>\n",
       "      <td>8.488510e+07</td>\n",
       "      <td>2.232343e+07</td>\n",
       "      <td>9.031442e+05</td>\n",
       "      <td>3.512030e+06</td>\n",
       "      <td>14.000000</td>\n",
       "      <td>92.000000</td>\n",
       "    </tr>\n",
       "    <tr>\n",
       "      <th>50%</th>\n",
       "      <td>2.475174e+06</td>\n",
       "      <td>7.202975e+05</td>\n",
       "      <td>5.528107e+07</td>\n",
       "      <td>1.553584e+06</td>\n",
       "      <td>8.988052e+07</td>\n",
       "      <td>2.448491e+07</td>\n",
       "      <td>1.110432e+06</td>\n",
       "      <td>3.942739e+06</td>\n",
       "      <td>19.500000</td>\n",
       "      <td>124.000000</td>\n",
       "    </tr>\n",
       "    <tr>\n",
       "      <th>75%</th>\n",
       "      <td>2.742374e+06</td>\n",
       "      <td>8.671992e+05</td>\n",
       "      <td>5.758666e+07</td>\n",
       "      <td>1.793312e+06</td>\n",
       "      <td>9.460157e+07</td>\n",
       "      <td>2.729990e+07</td>\n",
       "      <td>1.284741e+06</td>\n",
       "      <td>4.514281e+06</td>\n",
       "      <td>24.000000</td>\n",
       "      <td>162.000000</td>\n",
       "    </tr>\n",
       "    <tr>\n",
       "      <th>max</th>\n",
       "      <td>2.999890e+06</td>\n",
       "      <td>2.967591e+06</td>\n",
       "      <td>5.998821e+07</td>\n",
       "      <td>3.999402e+06</td>\n",
       "      <td>9.995132e+07</td>\n",
       "      <td>2.999215e+07</td>\n",
       "      <td>1.497622e+06</td>\n",
       "      <td>4.999284e+06</td>\n",
       "      <td>29.000000</td>\n",
       "      <td>199.000000</td>\n",
       "    </tr>\n",
       "  </tbody>\n",
       "</table>\n",
       "</div>"
      ],
      "text/plain": [
       "       Interest_Income  Interest_Expense  Average_Earning_Assets  \\\n",
       "count     4.500000e+02      4.500000e+02            4.500000e+02   \n",
       "mean      2.493105e+06      7.901872e+05            5.514276e+07   \n",
       "std       2.926169e+05      3.295992e+05            2.887246e+06   \n",
       "min       2.002869e+06      5.010150e+05            5.006432e+07   \n",
       "25%       2.235993e+06      6.129992e+05            5.269445e+07   \n",
       "50%       2.475174e+06      7.202975e+05            5.528107e+07   \n",
       "75%       2.742374e+06      8.671992e+05            5.758666e+07   \n",
       "max       2.999890e+06      2.967591e+06            5.998821e+07   \n",
       "\n",
       "         Net_Income  Total_Assets  Shareholder_Equity  Operating_Expenses  \\\n",
       "count  4.500000e+02  4.500000e+02        4.500000e+02        4.500000e+02   \n",
       "mean   1.589052e+06  8.991146e+07        2.482550e+07        1.099544e+06   \n",
       "std    4.878065e+05  5.594602e+06        2.857464e+06        2.243381e+05   \n",
       "min    1.007906e+06  8.010073e+07        2.001968e+07        7.065300e+05   \n",
       "25%    1.260571e+06  8.488510e+07        2.232343e+07        9.031442e+05   \n",
       "50%    1.553584e+06  8.988052e+07        2.448491e+07        1.110432e+06   \n",
       "75%    1.793312e+06  9.460157e+07        2.729990e+07        1.284741e+06   \n",
       "max    3.999402e+06  9.995132e+07        2.999215e+07        1.497622e+06   \n",
       "\n",
       "       Operating_Income  Market_Share  Stock_Price  \n",
       "count      4.500000e+02    450.000000   450.000000  \n",
       "mean       3.985466e+06     19.464444   126.066667  \n",
       "std        5.802948e+05      5.755588    42.620091  \n",
       "min        3.000159e+06     10.000000    50.000000  \n",
       "25%        3.512030e+06     14.000000    92.000000  \n",
       "50%        3.942739e+06     19.500000   124.000000  \n",
       "75%        4.514281e+06     24.000000   162.000000  \n",
       "max        4.999284e+06     29.000000   199.000000  "
      ]
     },
     "execution_count": 176,
     "metadata": {},
     "output_type": "execute_result"
    }
   ],
   "source": [
    "df.describe()"
   ]
  },
  {
   "cell_type": "markdown",
   "metadata": {},
   "source": [
    "## Data Type Conversion"
   ]
  },
  {
   "cell_type": "markdown",
   "metadata": {},
   "source": [
    "#### Convert 'Date' column to datetime format.\n",
    "    Ensure the Date column is in datetime format."
   ]
  },
  {
   "cell_type": "code",
   "execution_count": 177,
   "metadata": {},
   "outputs": [],
   "source": [
    "df['Date'] = pd.to_datetime(df['Date'])\n",
    "#df.loc[row_indexer, col_indexer] = value instead"
   ]
  },
  {
   "cell_type": "markdown",
   "metadata": {},
   "source": [
    "## Scaling and Normalization"
   ]
  },
  {
   "cell_type": "code",
   "execution_count": 182,
   "metadata": {},
   "outputs": [],
   "source": [
    "#scaler = StandardScaler()\n",
    "#df[columns_to_scale] = scaler.fit_transform(df[columns_to_scale])\n",
    "#df.StandardScaler()\n",
    "columns_to_scale = ['Interest_Income', 'Interest_Expense', 'Average_Earning_Assets', \n",
    "                    'Net_Income', 'Total_Assets', 'Shareholder_Equity', \n",
    "                    'Operating_Expenses', 'Operating_Income', 'Market_Share', 'Stock_Price']"
   ]
  },
  {
   "cell_type": "markdown",
   "metadata": {},
   "source": [
    "# Remove columns"
   ]
  },
  {
   "cell_type": "markdown",
   "metadata": {},
   "source": [
    "## Select only the 'Date' and 'Close' columns"
   ]
  },
  {
   "cell_type": "code",
   "execution_count": 179,
   "metadata": {},
   "outputs": [
    {
     "data": {
      "text/html": [
       "<div>\n",
       "<style scoped>\n",
       "    .dataframe tbody tr th:only-of-type {\n",
       "        vertical-align: middle;\n",
       "    }\n",
       "\n",
       "    .dataframe tbody tr th {\n",
       "        vertical-align: top;\n",
       "    }\n",
       "\n",
       "    .dataframe thead th {\n",
       "        text-align: right;\n",
       "    }\n",
       "</style>\n",
       "<table border=\"1\" class=\"dataframe\">\n",
       "  <thead>\n",
       "    <tr style=\"text-align: right;\">\n",
       "      <th></th>\n",
       "      <th>Date</th>\n",
       "      <th>Stock_Price</th>\n",
       "    </tr>\n",
       "  </thead>\n",
       "  <tbody>\n",
       "    <tr>\n",
       "      <th>0</th>\n",
       "      <td>2022-01-03</td>\n",
       "      <td>128</td>\n",
       "    </tr>\n",
       "    <tr>\n",
       "      <th>1</th>\n",
       "      <td>2022-01-04</td>\n",
       "      <td>63</td>\n",
       "    </tr>\n",
       "    <tr>\n",
       "      <th>2</th>\n",
       "      <td>2022-01-05</td>\n",
       "      <td>196</td>\n",
       "    </tr>\n",
       "    <tr>\n",
       "      <th>3</th>\n",
       "      <td>2022-01-06</td>\n",
       "      <td>177</td>\n",
       "    </tr>\n",
       "    <tr>\n",
       "      <th>4</th>\n",
       "      <td>2022-01-07</td>\n",
       "      <td>103</td>\n",
       "    </tr>\n",
       "  </tbody>\n",
       "</table>\n",
       "</div>"
      ],
      "text/plain": [
       "        Date  Stock_Price\n",
       "0 2022-01-03          128\n",
       "1 2022-01-04           63\n",
       "2 2022-01-05          196\n",
       "3 2022-01-06          177\n",
       "4 2022-01-07          103"
      ]
     },
     "execution_count": 179,
     "metadata": {},
     "output_type": "execute_result"
    }
   ],
   "source": [
    "# Convert the date column to datetime format (assuming your date column is named 'Date')\n",
    "df['Date'] = pd.to_datetime(df['Date'])\n",
    "\n",
    "# Define the date range as strings\n",
    "start_date = 'YYYY-MM-DD'\n",
    "end_date = 'YYYY-MM-DD'\n",
    "# Select only the 'Date' and 'Close' columns\n",
    "bank_df = df[['Date', 'Stock_Price']]\n",
    "\n",
    "# Display the first few rows of the selected data\n",
    "bank_df.head()"
   ]
  },
  {
   "cell_type": "code",
   "execution_count": 180,
   "metadata": {},
   "outputs": [
    {
     "data": {
      "text/html": [
       "<div>\n",
       "<style scoped>\n",
       "    .dataframe tbody tr th:only-of-type {\n",
       "        vertical-align: middle;\n",
       "    }\n",
       "\n",
       "    .dataframe tbody tr th {\n",
       "        vertical-align: top;\n",
       "    }\n",
       "\n",
       "    .dataframe thead th {\n",
       "        text-align: right;\n",
       "    }\n",
       "</style>\n",
       "<table border=\"1\" class=\"dataframe\">\n",
       "  <thead>\n",
       "    <tr style=\"text-align: right;\">\n",
       "      <th></th>\n",
       "      <th>Date</th>\n",
       "      <th>Stock_Price</th>\n",
       "    </tr>\n",
       "  </thead>\n",
       "  <tbody>\n",
       "    <tr>\n",
       "      <th>494</th>\n",
       "      <td>2023-12-22</td>\n",
       "      <td>195</td>\n",
       "    </tr>\n",
       "    <tr>\n",
       "      <th>495</th>\n",
       "      <td>2023-12-26</td>\n",
       "      <td>104</td>\n",
       "    </tr>\n",
       "    <tr>\n",
       "      <th>496</th>\n",
       "      <td>2023-12-27</td>\n",
       "      <td>169</td>\n",
       "    </tr>\n",
       "    <tr>\n",
       "      <th>497</th>\n",
       "      <td>2023-12-28</td>\n",
       "      <td>124</td>\n",
       "    </tr>\n",
       "    <tr>\n",
       "      <th>498</th>\n",
       "      <td>2023-12-29</td>\n",
       "      <td>70</td>\n",
       "    </tr>\n",
       "  </tbody>\n",
       "</table>\n",
       "</div>"
      ],
      "text/plain": [
       "          Date  Stock_Price\n",
       "494 2023-12-22          195\n",
       "495 2023-12-26          104\n",
       "496 2023-12-27          169\n",
       "497 2023-12-28          124\n",
       "498 2023-12-29           70"
      ]
     },
     "execution_count": 180,
     "metadata": {},
     "output_type": "execute_result"
    }
   ],
   "source": [
    "bank_df.tail()"
   ]
  },
  {
   "cell_type": "code",
   "execution_count": 181,
   "metadata": {},
   "outputs": [
    {
     "data": {
      "text/plain": [
       "Date           datetime64[ns]\n",
       "Stock_Price             int64\n",
       "dtype: object"
      ]
     },
     "execution_count": 181,
     "metadata": {},
     "output_type": "execute_result"
    }
   ],
   "source": [
    "bank_df.dtypes"
   ]
  }
 ],
 "metadata": {
  "kernelspec": {
   "display_name": "venv",
   "language": "python",
   "name": "python3"
  },
  "language_info": {
   "codemirror_mode": {
    "name": "ipython",
    "version": 3
   },
   "file_extension": ".py",
   "mimetype": "text/x-python",
   "name": "python",
   "nbconvert_exporter": "python",
   "pygments_lexer": "ipython3",
   "version": "3.12.4"
  }
 },
 "nbformat": 4,
 "nbformat_minor": 2
}
