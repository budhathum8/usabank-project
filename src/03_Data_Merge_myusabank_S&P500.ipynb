{
 "cells": [
  {
   "cell_type": "markdown",
   "metadata": {},
   "source": [
    "# Import Libraries and Load the Data\n",
    "### First, import the necessary libraries and load the dataset into a pandas DataFrame."
   ]
  },
  {
   "cell_type": "code",
   "execution_count": 1,
   "metadata": {},
   "outputs": [],
   "source": [
    "import pandas as pd\n",
    "import numpy as np\n",
    "import seaborn as sns\n",
    "import matplotlib.pyplot as plt # For visualizing data.\n",
    "%matplotlib inline\n",
    "import datetime"
   ]
  },
  {
   "cell_type": "markdown",
   "metadata": {},
   "source": [
    "# Load the Bank Data"
   ]
  },
  {
   "cell_type": "code",
   "execution_count": 2,
   "metadata": {},
   "outputs": [],
   "source": [
    "df = pd.read_csv('../data/clean/01_myusabank_clean_data.csv') \n",
    "df['Date'] = pd.to_datetime(df['Date'])"
   ]
  },
  {
   "cell_type": "markdown",
   "metadata": {},
   "source": [
    "Details: Load data for a bank's stock prices from a CSV file. Reads a CSV file (myusabank.csv) containing bank financial data into a DataFrame named df and converts the Date column from a string format to a datetime object. This makes it easier to filter data based on dates later in the code."
   ]
  },
  {
   "cell_type": "markdown",
   "metadata": {},
   "source": [
    "#  Load the S&P 500 Data"
   ]
  },
  {
   "cell_type": "code",
   "execution_count": 3,
   "metadata": {},
   "outputs": [],
   "source": [
    "spx_df = pd.read_csv('../data/clean/02_S&P500(SPX)_clean_data.csv')\n",
    "spx_df['Date'] = pd.to_datetime(spx_df['Date'])"
   ]
  },
  {
   "cell_type": "markdown",
   "metadata": {},
   "source": [
    "Details: Load historical S&P 500 data for comparison with the bank's stock prices. Reads another CSV file (S&P 500 historical data) into a DataFrame named spx_df. It converts the Date column to a datetime object for easy filtering by date range."
   ]
  },
  {
   "cell_type": "markdown",
   "metadata": {},
   "source": [
    "# Define the Date Range for Analysis"
   ]
  },
  {
   "cell_type": "code",
   "execution_count": 4,
   "metadata": {},
   "outputs": [],
   "source": [
    "start_date = '2022-01-03'\n",
    "end_date = '2023-03-23'"
   ]
  },
  {
   "cell_type": "markdown",
   "metadata": {},
   "source": [
    "Details: Set the start and end dates for the data range of interest and it assigns two specific dates that act as filters, allowing you to focus on data from early 2022 through early 2023."
   ]
  },
  {
   "cell_type": "markdown",
   "metadata": {},
   "source": [
    "# Filter Both DataFrames Based on the Date Range"
   ]
  },
  {
   "cell_type": "code",
   "execution_count": 5,
   "metadata": {},
   "outputs": [],
   "source": [
    "bank_df = df[(df['Date'] >= start_date) & (df['Date'] <= end_date)][['Date', 'Stock_Price']]\n",
    "spx_df_filtered = spx_df[(spx_df['Date'] >= start_date) & (spx_df['Date'] <= end_date)][['Date', 'Close/Last']]"
   ]
  },
  {
   "cell_type": "markdown",
   "metadata": {},
   "source": [
    "Purpose: Isolate the relevant rows in both the bank and S&P 500 DataFrames based on the specified date range.\n",
    "Details:\n",
    "    Filters the df DataFrame (bank data) for rows where the Date falls within the date range, and selects only the Date and Stock_Price columns.\n",
    "    Similarly, filters the spx_df DataFrame (S&P 500 data) for dates within the range and selects the Date and Close/Last columns."
   ]
  },
  {
   "cell_type": "markdown",
   "metadata": {},
   "source": [
    "# Rename Columns for Clarity"
   ]
  },
  {
   "cell_type": "code",
   "execution_count": 6,
   "metadata": {},
   "outputs": [],
   "source": [
    "bank_df = bank_df.rename(columns={'Stock_Price': 'Bank_Stock_Price'})\n",
    "spx_df_filtered = spx_df_filtered.rename(columns={'Close/Last': 'S&P500'})"
   ]
  },
  {
   "cell_type": "code",
   "execution_count": 7,
   "metadata": {},
   "outputs": [],
   "source": [
    "bank_df = bank_df.rename(columns={'date': 'Date'})\n",
    "spx_df_filtered = spx_df_filtered.rename(columns={'date': 'Date'})"
   ]
  },
  {
   "cell_type": "markdown",
   "metadata": {},
   "source": [
    "Details: Make column names clearer in both DataFrames and renames Stock_Price in bank_df to Bank_Stock_Price, helping distinguish it from the S&P 500 data, renames Close/Last in spx_df_filtered to S&P500, making it clear that this column contains S&P 500 closing prices."
   ]
  },
  {
   "cell_type": "markdown",
   "metadata": {},
   "source": [
    "# Merge the DataFrames on the 'Date' Column"
   ]
  },
  {
   "cell_type": "code",
   "execution_count": 8,
   "metadata": {},
   "outputs": [],
   "source": [
    "merged_df = pd.merge(bank_df, spx_df_filtered, how = 'inner', on = ['Date'])"
   ]
  },
  {
   "cell_type": "code",
   "execution_count": 9,
   "metadata": {},
   "outputs": [],
   "source": [
    "merged_df['Date'] = pd.to_datetime(merged_df['Date']) "
   ]
  },
  {
   "cell_type": "code",
   "execution_count": 10,
   "metadata": {},
   "outputs": [
    {
     "name": "stdout",
     "output_type": "stream",
     "text": [
      "Index(['Date', 'Bank_Stock_Price', 'S&P500'], dtype='object')\n"
     ]
    }
   ],
   "source": [
    "print(merged_df.columns)"
   ]
  },
  {
   "cell_type": "markdown",
   "metadata": {},
   "source": [
    "Purpose: Combine the bank and S&P 500 data into a single DataFrame based on matching dates.\n",
    "Details:\n",
    "    Uses an inner join to merge bank_df and spx_df_filtered on the Date column.\n",
    "    The how='inner' parameter ensures that only rows with dates present in both data sets are included."
   ]
  },
  {
   "cell_type": "markdown",
   "metadata": {},
   "source": [
    "# Display the First Few Rows of the Merged Data"
   ]
  },
  {
   "cell_type": "code",
   "execution_count": 11,
   "metadata": {},
   "outputs": [
    {
     "data": {
      "text/html": [
       "<div>\n",
       "<style scoped>\n",
       "    .dataframe tbody tr th:only-of-type {\n",
       "        vertical-align: middle;\n",
       "    }\n",
       "\n",
       "    .dataframe tbody tr th {\n",
       "        vertical-align: top;\n",
       "    }\n",
       "\n",
       "    .dataframe thead th {\n",
       "        text-align: right;\n",
       "    }\n",
       "</style>\n",
       "<table border=\"1\" class=\"dataframe\">\n",
       "  <thead>\n",
       "    <tr style=\"text-align: right;\">\n",
       "      <th></th>\n",
       "      <th>Date</th>\n",
       "      <th>Bank_Stock_Price</th>\n",
       "      <th>S&amp;P500</th>\n",
       "    </tr>\n",
       "  </thead>\n",
       "  <tbody>\n",
       "    <tr>\n",
       "      <th>0</th>\n",
       "      <td>2022-01-03</td>\n",
       "      <td>128</td>\n",
       "      <td>4796.56</td>\n",
       "    </tr>\n",
       "    <tr>\n",
       "      <th>1</th>\n",
       "      <td>2022-01-04</td>\n",
       "      <td>63</td>\n",
       "      <td>4793.54</td>\n",
       "    </tr>\n",
       "    <tr>\n",
       "      <th>2</th>\n",
       "      <td>2022-01-05</td>\n",
       "      <td>196</td>\n",
       "      <td>4700.58</td>\n",
       "    </tr>\n",
       "    <tr>\n",
       "      <th>3</th>\n",
       "      <td>2022-01-06</td>\n",
       "      <td>177</td>\n",
       "      <td>4696.05</td>\n",
       "    </tr>\n",
       "    <tr>\n",
       "      <th>4</th>\n",
       "      <td>2022-01-07</td>\n",
       "      <td>103</td>\n",
       "      <td>4677.03</td>\n",
       "    </tr>\n",
       "  </tbody>\n",
       "</table>\n",
       "</div>"
      ],
      "text/plain": [
       "        Date  Bank_Stock_Price   S&P500\n",
       "0 2022-01-03               128  4796.56\n",
       "1 2022-01-04                63  4793.54\n",
       "2 2022-01-05               196  4700.58\n",
       "3 2022-01-06               177  4696.05\n",
       "4 2022-01-07               103  4677.03"
      ]
     },
     "execution_count": 11,
     "metadata": {},
     "output_type": "execute_result"
    }
   ],
   "source": [
    "merged_df.head()"
   ]
  },
  {
   "cell_type": "markdown",
   "metadata": {},
   "source": [
    "Details: Inspect the initial rows of the merged data and head() displays the first few rows, allowing you to verify that the merge worked correctly and that the columns (Date, Bank_Stock_Price, and S&P500) contain the expected data."
   ]
  },
  {
   "cell_type": "code",
   "execution_count": 12,
   "metadata": {},
   "outputs": [
    {
     "data": {
      "text/html": [
       "<div>\n",
       "<style scoped>\n",
       "    .dataframe tbody tr th:only-of-type {\n",
       "        vertical-align: middle;\n",
       "    }\n",
       "\n",
       "    .dataframe tbody tr th {\n",
       "        vertical-align: top;\n",
       "    }\n",
       "\n",
       "    .dataframe thead th {\n",
       "        text-align: right;\n",
       "    }\n",
       "</style>\n",
       "<table border=\"1\" class=\"dataframe\">\n",
       "  <thead>\n",
       "    <tr style=\"text-align: right;\">\n",
       "      <th></th>\n",
       "      <th>Date</th>\n",
       "      <th>Bank_Stock_Price</th>\n",
       "      <th>S&amp;P500</th>\n",
       "    </tr>\n",
       "  </thead>\n",
       "  <tbody>\n",
       "    <tr>\n",
       "      <th>270</th>\n",
       "      <td>2023-03-17</td>\n",
       "      <td>64</td>\n",
       "      <td>3916.64</td>\n",
       "    </tr>\n",
       "    <tr>\n",
       "      <th>271</th>\n",
       "      <td>2023-03-20</td>\n",
       "      <td>180</td>\n",
       "      <td>3951.57</td>\n",
       "    </tr>\n",
       "    <tr>\n",
       "      <th>272</th>\n",
       "      <td>2023-03-21</td>\n",
       "      <td>188</td>\n",
       "      <td>4002.87</td>\n",
       "    </tr>\n",
       "    <tr>\n",
       "      <th>273</th>\n",
       "      <td>2023-03-22</td>\n",
       "      <td>79</td>\n",
       "      <td>3936.97</td>\n",
       "    </tr>\n",
       "    <tr>\n",
       "      <th>274</th>\n",
       "      <td>2023-03-23</td>\n",
       "      <td>106</td>\n",
       "      <td>3948.72</td>\n",
       "    </tr>\n",
       "  </tbody>\n",
       "</table>\n",
       "</div>"
      ],
      "text/plain": [
       "          Date  Bank_Stock_Price   S&P500\n",
       "270 2023-03-17                64  3916.64\n",
       "271 2023-03-20               180  3951.57\n",
       "272 2023-03-21               188  4002.87\n",
       "273 2023-03-22                79  3936.97\n",
       "274 2023-03-23               106  3948.72"
      ]
     },
     "execution_count": 12,
     "metadata": {},
     "output_type": "execute_result"
    }
   ],
   "source": [
    "merged_df.tail()"
   ]
  },
  {
   "cell_type": "markdown",
   "metadata": {},
   "source": [
    "Details: Inspect the initial rows of the merged data and tail() displays the first few rows, allowing you to verify that the merge worked correctly and that the columns (Date, Bank_Stock_Price, and S&P500) contain the expected data."
   ]
  },
  {
   "cell_type": "markdown",
   "metadata": {},
   "source": [
    "### Check the  description"
   ]
  },
  {
   "cell_type": "code",
   "execution_count": 13,
   "metadata": {},
   "outputs": [
    {
     "data": {
      "text/html": [
       "<div>\n",
       "<style scoped>\n",
       "    .dataframe tbody tr th:only-of-type {\n",
       "        vertical-align: middle;\n",
       "    }\n",
       "\n",
       "    .dataframe tbody tr th {\n",
       "        vertical-align: top;\n",
       "    }\n",
       "\n",
       "    .dataframe thead th {\n",
       "        text-align: right;\n",
       "    }\n",
       "</style>\n",
       "<table border=\"1\" class=\"dataframe\">\n",
       "  <thead>\n",
       "    <tr style=\"text-align: right;\">\n",
       "      <th></th>\n",
       "      <th>Date</th>\n",
       "      <th>Bank_Stock_Price</th>\n",
       "      <th>S&amp;P500</th>\n",
       "    </tr>\n",
       "  </thead>\n",
       "  <tbody>\n",
       "    <tr>\n",
       "      <th>count</th>\n",
       "      <td>275</td>\n",
       "      <td>275.000000</td>\n",
       "      <td>275.000000</td>\n",
       "    </tr>\n",
       "    <tr>\n",
       "      <th>mean</th>\n",
       "      <td>2022-08-11 00:47:07.636363520</td>\n",
       "      <td>125.323636</td>\n",
       "      <td>4085.451091</td>\n",
       "    </tr>\n",
       "    <tr>\n",
       "      <th>min</th>\n",
       "      <td>2022-01-03 00:00:00</td>\n",
       "      <td>51.000000</td>\n",
       "      <td>3577.030000</td>\n",
       "    </tr>\n",
       "    <tr>\n",
       "      <th>25%</th>\n",
       "      <td>2022-04-23 12:00:00</td>\n",
       "      <td>90.000000</td>\n",
       "      <td>3899.115000</td>\n",
       "    </tr>\n",
       "    <tr>\n",
       "      <th>50%</th>\n",
       "      <td>2022-08-08 00:00:00</td>\n",
       "      <td>122.000000</td>\n",
       "      <td>4017.820000</td>\n",
       "    </tr>\n",
       "    <tr>\n",
       "      <th>75%</th>\n",
       "      <td>2022-11-30 12:00:00</td>\n",
       "      <td>160.500000</td>\n",
       "      <td>4268.245000</td>\n",
       "    </tr>\n",
       "    <tr>\n",
       "      <th>max</th>\n",
       "      <td>2023-03-23 00:00:00</td>\n",
       "      <td>199.000000</td>\n",
       "      <td>4796.560000</td>\n",
       "    </tr>\n",
       "    <tr>\n",
       "      <th>std</th>\n",
       "      <td>NaN</td>\n",
       "      <td>41.974714</td>\n",
       "      <td>269.769016</td>\n",
       "    </tr>\n",
       "  </tbody>\n",
       "</table>\n",
       "</div>"
      ],
      "text/plain": [
       "                                Date  Bank_Stock_Price       S&P500\n",
       "count                            275        275.000000   275.000000\n",
       "mean   2022-08-11 00:47:07.636363520        125.323636  4085.451091\n",
       "min              2022-01-03 00:00:00         51.000000  3577.030000\n",
       "25%              2022-04-23 12:00:00         90.000000  3899.115000\n",
       "50%              2022-08-08 00:00:00        122.000000  4017.820000\n",
       "75%              2022-11-30 12:00:00        160.500000  4268.245000\n",
       "max              2023-03-23 00:00:00        199.000000  4796.560000\n",
       "std                              NaN         41.974714   269.769016"
      ]
     },
     "execution_count": 13,
     "metadata": {},
     "output_type": "execute_result"
    }
   ],
   "source": [
    "merged_df.describe()"
   ]
  },
  {
   "cell_type": "markdown",
   "metadata": {},
   "source": [
    "Details: Inspect the  merged data  description displays the count, mean, min max and std  to verify that the merge worked correctly and that the columns (Date, Bank_Stock_Price, and S&P500) contain the expected data."
   ]
  },
  {
   "cell_type": "markdown",
   "metadata": {},
   "source": [
    "### Check Data Types"
   ]
  },
  {
   "cell_type": "code",
   "execution_count": 14,
   "metadata": {},
   "outputs": [
    {
     "data": {
      "text/plain": [
       "Date                datetime64[ns]\n",
       "Bank_Stock_Price             int64\n",
       "S&P500                     float64\n",
       "dtype: object"
      ]
     },
     "execution_count": 14,
     "metadata": {},
     "output_type": "execute_result"
    }
   ],
   "source": [
    "merged_df.dtypes"
   ]
  },
  {
   "cell_type": "markdown",
   "metadata": {},
   "source": [
    "### Creat the Merge CSV File "
   ]
  },
  {
   "cell_type": "code",
   "execution_count": null,
   "metadata": {},
   "outputs": [],
   "source": [
    "merged_df.to_csv('../data/clean/03_data_merged_myusabank_S&P500_data.csv', index=False) #Unnamed: 0 show the colume do not show the file"
   ]
  },
  {
   "cell_type": "markdown",
   "metadata": {},
   "source": [
    "CSV file send to data folder and save."
   ]
  }
 ],
 "metadata": {
  "kernelspec": {
   "display_name": "venv",
   "language": "python",
   "name": "python3"
  },
  "language_info": {
   "codemirror_mode": {
    "name": "ipython",
    "version": 3
   },
   "file_extension": ".py",
   "mimetype": "text/x-python",
   "name": "python",
   "nbconvert_exporter": "python",
   "pygments_lexer": "ipython3",
   "version": "3.12.4"
  }
 },
 "nbformat": 4,
 "nbformat_minor": 2
}
