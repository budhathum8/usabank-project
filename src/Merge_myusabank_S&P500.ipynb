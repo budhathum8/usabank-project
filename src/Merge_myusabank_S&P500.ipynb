{
 "cells": [
  {
   "cell_type": "code",
   "execution_count": null,
   "metadata": {},
   "outputs": [],
   "source": [
    "# Import Libraries and Load the Data\n",
    "### First, import the necessary libraries and load the dataset into a pandas DataFrame."
   ]
  },
  {
   "cell_type": "code",
   "execution_count": 1,
   "metadata": {},
   "outputs": [],
   "source": [
    "import pandas as pd\n",
    "import numpy as np\n",
    "import seaborn as sns\n",
    "import matplotlib.pyplot as plt # For visualizing data.\n",
    "%matplotlib inline\n",
    "import datetime"
   ]
  },
  {
   "cell_type": "markdown",
   "metadata": {},
   "source": [
    "## Merge Data"
   ]
  },
  {
   "cell_type": "markdown",
   "metadata": {},
   "source": [
    "### S&P500(SPX)"
   ]
  },
  {
   "cell_type": "code",
   "execution_count": 26,
   "metadata": {},
   "outputs": [],
   "source": [
    "# Load the data\n",
    "#df = pd.read_csv('../data/S&P 500 (SPX)HistoricalData_1730734525504.csv')\n",
    "\n",
    "# Convert the date column to datetime format (assuming your date column is named 'Date')\n",
    "#df['Date'] = pd.to_datetime(df['Date'])\n",
    "\n",
    "# Define the date range\n",
    "#start_date = '2022-01-03'\n",
    "#end_date = '2023-03-23'\n",
    "\n",
    "# Filter the dataframe by date range and select 'Date' and 'Close/Last' columns, renaming 'Close/Last' to 'Stock_Price'\n",
    "#bank_df = df[(df['Date'] >= start_date) & (df['Date'] <= end_date)][['Date', 'Close/Last']].rename(columns={'Close/Last': 'S&P500'})\n",
    "\n",
    "# Display the first few rows of the filtered data\n",
    "#bank_df.head()\n"
   ]
  },
  {
   "cell_type": "code",
   "execution_count": 25,
   "metadata": {},
   "outputs": [],
   "source": [
    "#bank_df.tail()"
   ]
  },
  {
   "cell_type": "markdown",
   "metadata": {},
   "source": [
    "### MyUSA Bank "
   ]
  },
  {
   "cell_type": "code",
   "execution_count": 27,
   "metadata": {},
   "outputs": [],
   "source": [
    "#df = pd.read_csv('../data/myusabank.csv')\n",
    "# Convert the date column to datetime format (assuming your date column is named 'Date')\n",
    "#df['Date'] = pd.to_datetime(df['Date'])\n",
    "\n",
    "# Define the date range as strings\n",
    "#start_date = 'YYYY-MM-DD'\n",
    "#end_date = 'YYYY-MM-DD'\n",
    "# Select only the 'Date' and 'Close' columns\n",
    "#bank_df = df[['Date', 'Stock_Price']]\n",
    "#bank_df = df[(df['Date'] >= start_date) & (df['Date'] <= end_date)][['Date', 'Stock_Price']].rename(columns={'Stock_Price': 'USABank'})\n",
    "\n",
    "# Display the first few rows of the selected data\n",
    "#bank_df.head()"
   ]
  },
  {
   "cell_type": "code",
   "execution_count": 28,
   "metadata": {},
   "outputs": [],
   "source": [
    "#bank_df.tail()"
   ]
  },
  {
   "cell_type": "markdown",
   "metadata": {},
   "source": [
    "# Merge data between MyUSA Bank and S&P500(SPX) \n",
    "### Rename column"
   ]
  },
  {
   "cell_type": "code",
   "execution_count": 40,
   "metadata": {},
   "outputs": [],
   "source": [
    "# Load the bank data\n",
    "#df = pd.read_csv('../data/myusabank.csv')\n",
    "#df['Date'] = pd.to_datetime(df['Date'])\n",
    "\n",
    "# Load the S&P 500 data\n",
    "#spx_df = pd.read_csv('../data/S&P 500 (SPX)HistoricalData_1730734525504.csv')\n",
    "#spx_df['Date'] = pd.to_datetime(spx_df['Date'])\n",
    "\n",
    "# Define the date range\n",
    "#start_date = '2022-01-03'\n",
    "#end_date = '2023-03-23'\n",
    "\n",
    "# Filter both dataframes based on the date range\n",
    "#bank_df = df[(df['Date'] >= start_date) & (df['Date'] <= end_date)][['Date', 'Stock_Price']]\n",
    "#spx_df_filtered = spx_df[(spx_df['Date'] >= start_date) & (spx_df['Date'] <= end_date)][['Date', 'Close/Last']]\n",
    "\n",
    "# Rename columns for clarity\n",
    "#bank_df = bank_df.rename(columns={'Stock_Price': 'Bank_Stock_Price'})\n",
    "#spx_df_filtered = spx_df_filtered.rename(columns={'Close/Last': 'S&P500'})\n",
    "\n",
    "\n",
    "# Merge the dataframes on 'Date'\n",
    "#merged_df = pd.merge(bank_df, spx_df_filtered, on='Date', how='inner')\n",
    "\n",
    "# Display the first few rows of the merged data\n",
    "#merged_df.head()\n"
   ]
  },
  {
   "cell_type": "code",
   "execution_count": 39,
   "metadata": {},
   "outputs": [],
   "source": [
    "#merged_df.tail()"
   ]
  },
  {
   "cell_type": "markdown",
   "metadata": {},
   "source": [
    "# Load the Bank Data"
   ]
  },
  {
   "cell_type": "code",
   "execution_count": 42,
   "metadata": {},
   "outputs": [],
   "source": [
    "df = pd.read_csv('../data/myusabank.csv')\n",
    "df['Date'] = pd.to_datetime(df['Date'])"
   ]
  },
  {
   "cell_type": "markdown",
   "metadata": {},
   "source": [
    "Details: Load data for a bank's stock prices from a CSV file. Reads a CSV file (myusabank.csv) containing bank financial data into a DataFrame named df and converts the Date column from a string format to a datetime object. This makes it easier to filter data based on dates later in the code."
   ]
  },
  {
   "cell_type": "markdown",
   "metadata": {},
   "source": [
    "#  Load the S&P 500 Data"
   ]
  },
  {
   "cell_type": "code",
   "execution_count": 43,
   "metadata": {},
   "outputs": [],
   "source": [
    "spx_df = pd.read_csv('../data/S&P 500 (SPX)HistoricalData_1730734525504.csv')\n",
    "spx_df['Date'] = pd.to_datetime(spx_df['Date'])"
   ]
  },
  {
   "cell_type": "markdown",
   "metadata": {},
   "source": [
    "Details: Load historical S&P 500 data for comparison with the bank's stock prices. Reads another CSV file (S&P 500 historical data) into a DataFrame named spx_df. It converts the Date column to a datetime object for easy filtering by date range."
   ]
  },
  {
   "cell_type": "markdown",
   "metadata": {},
   "source": [
    "# Define the Date Range for Analysis"
   ]
  },
  {
   "cell_type": "code",
   "execution_count": 44,
   "metadata": {},
   "outputs": [],
   "source": [
    "start_date = '2022-01-03'\n",
    "end_date = '2023-03-23'"
   ]
  },
  {
   "cell_type": "markdown",
   "metadata": {},
   "source": [
    "Details: Set the start and end dates for the data range of interest and it assigns two specific dates that act as filters, allowing you to focus on data from early 2022 through early 2023."
   ]
  },
  {
   "cell_type": "markdown",
   "metadata": {},
   "source": [
    "# Filter Both DataFrames Based on the Date Range"
   ]
  },
  {
   "cell_type": "code",
   "execution_count": 45,
   "metadata": {},
   "outputs": [],
   "source": [
    "bank_df = df[(df['Date'] >= start_date) & (df['Date'] <= end_date)][['Date', 'Stock_Price']]\n",
    "spx_df_filtered = spx_df[(spx_df['Date'] >= start_date) & (spx_df['Date'] <= end_date)][['Date', 'Close/Last']]"
   ]
  },
  {
   "cell_type": "markdown",
   "metadata": {},
   "source": [
    "Purpose: Isolate the relevant rows in both the bank and S&P 500 DataFrames based on the specified date range.\n",
    "Details:\n",
    "    Filters the df DataFrame (bank data) for rows where the Date falls within the date range, and selects only the Date and Stock_Price columns.\n",
    "    Similarly, filters the spx_df DataFrame (S&P 500 data) for dates within the range and selects the Date and Close/Last columns."
   ]
  },
  {
   "cell_type": "markdown",
   "metadata": {},
   "source": [
    "# Rename Columns for Clarity"
   ]
  },
  {
   "cell_type": "code",
   "execution_count": 46,
   "metadata": {},
   "outputs": [],
   "source": [
    "bank_df = bank_df.rename(columns={'Stock_Price': 'Bank_Stock_Price'})\n",
    "spx_df_filtered = spx_df_filtered.rename(columns={'Close/Last': 'S&P500'})"
   ]
  },
  {
   "cell_type": "markdown",
   "metadata": {},
   "source": [
    "Details: Make column names clearer in both DataFrames and renames Stock_Price in bank_df to Bank_Stock_Price, helping distinguish it from the S&P 500 data, renames Close/Last in spx_df_filtered to S&P500, making it clear that this column contains S&P 500 closing prices."
   ]
  },
  {
   "cell_type": "markdown",
   "metadata": {},
   "source": [
    "# Merge the DataFrames on the 'Date' Column"
   ]
  },
  {
   "cell_type": "code",
   "execution_count": 47,
   "metadata": {},
   "outputs": [],
   "source": [
    "merged_df = pd.merge(bank_df, spx_df_filtered, on='Date', how='inner')"
   ]
  },
  {
   "cell_type": "markdown",
   "metadata": {},
   "source": [
    "Purpose: Combine the bank and S&P 500 data into a single DataFrame based on matching dates.\n",
    "Details:\n",
    "    Uses an inner join to merge bank_df and spx_df_filtered on the Date column.\n",
    "    The how='inner' parameter ensures that only rows with dates present in both data sets are included."
   ]
  },
  {
   "cell_type": "markdown",
   "metadata": {},
   "source": [
    "# Display the First Few Rows of the Merged Data"
   ]
  },
  {
   "cell_type": "code",
   "execution_count": 48,
   "metadata": {},
   "outputs": [
    {
     "data": {
      "text/html": [
       "<div>\n",
       "<style scoped>\n",
       "    .dataframe tbody tr th:only-of-type {\n",
       "        vertical-align: middle;\n",
       "    }\n",
       "\n",
       "    .dataframe tbody tr th {\n",
       "        vertical-align: top;\n",
       "    }\n",
       "\n",
       "    .dataframe thead th {\n",
       "        text-align: right;\n",
       "    }\n",
       "</style>\n",
       "<table border=\"1\" class=\"dataframe\">\n",
       "  <thead>\n",
       "    <tr style=\"text-align: right;\">\n",
       "      <th></th>\n",
       "      <th>Date</th>\n",
       "      <th>Bank_Stock_Price</th>\n",
       "      <th>S&amp;P500</th>\n",
       "    </tr>\n",
       "  </thead>\n",
       "  <tbody>\n",
       "    <tr>\n",
       "      <th>0</th>\n",
       "      <td>2022-01-03</td>\n",
       "      <td>128</td>\n",
       "      <td>4796.56</td>\n",
       "    </tr>\n",
       "    <tr>\n",
       "      <th>1</th>\n",
       "      <td>2022-01-04</td>\n",
       "      <td>63</td>\n",
       "      <td>4793.54</td>\n",
       "    </tr>\n",
       "    <tr>\n",
       "      <th>2</th>\n",
       "      <td>2022-01-05</td>\n",
       "      <td>196</td>\n",
       "      <td>4700.58</td>\n",
       "    </tr>\n",
       "    <tr>\n",
       "      <th>3</th>\n",
       "      <td>2022-01-06</td>\n",
       "      <td>177</td>\n",
       "      <td>4696.05</td>\n",
       "    </tr>\n",
       "    <tr>\n",
       "      <th>4</th>\n",
       "      <td>2022-01-07</td>\n",
       "      <td>103</td>\n",
       "      <td>4677.03</td>\n",
       "    </tr>\n",
       "  </tbody>\n",
       "</table>\n",
       "</div>"
      ],
      "text/plain": [
       "        Date  Bank_Stock_Price   S&P500\n",
       "0 2022-01-03               128  4796.56\n",
       "1 2022-01-04                63  4793.54\n",
       "2 2022-01-05               196  4700.58\n",
       "3 2022-01-06               177  4696.05\n",
       "4 2022-01-07               103  4677.03"
      ]
     },
     "execution_count": 48,
     "metadata": {},
     "output_type": "execute_result"
    }
   ],
   "source": [
    "merged_df.head()"
   ]
  },
  {
   "cell_type": "markdown",
   "metadata": {},
   "source": [
    "Details: Inspect the initial rows of the merged data and head() displays the first few rows, allowing you to verify that the merge worked correctly and that the columns (Date, Bank_Stock_Price, and S&P500) contain the expected data."
   ]
  },
  {
   "cell_type": "code",
   "execution_count": 49,
   "metadata": {},
   "outputs": [
    {
     "data": {
      "text/html": [
       "<div>\n",
       "<style scoped>\n",
       "    .dataframe tbody tr th:only-of-type {\n",
       "        vertical-align: middle;\n",
       "    }\n",
       "\n",
       "    .dataframe tbody tr th {\n",
       "        vertical-align: top;\n",
       "    }\n",
       "\n",
       "    .dataframe thead th {\n",
       "        text-align: right;\n",
       "    }\n",
       "</style>\n",
       "<table border=\"1\" class=\"dataframe\">\n",
       "  <thead>\n",
       "    <tr style=\"text-align: right;\">\n",
       "      <th></th>\n",
       "      <th>Date</th>\n",
       "      <th>Bank_Stock_Price</th>\n",
       "      <th>S&amp;P500</th>\n",
       "    </tr>\n",
       "  </thead>\n",
       "  <tbody>\n",
       "    <tr>\n",
       "      <th>316</th>\n",
       "      <td>2023-03-03</td>\n",
       "      <td>169</td>\n",
       "      <td>4045.64</td>\n",
       "    </tr>\n",
       "    <tr>\n",
       "      <th>317</th>\n",
       "      <td>2022-08-23</td>\n",
       "      <td>53</td>\n",
       "      <td>4128.73</td>\n",
       "    </tr>\n",
       "    <tr>\n",
       "      <th>318</th>\n",
       "      <td>2022-05-04</td>\n",
       "      <td>123</td>\n",
       "      <td>4300.17</td>\n",
       "    </tr>\n",
       "    <tr>\n",
       "      <th>319</th>\n",
       "      <td>2023-01-18</td>\n",
       "      <td>142</td>\n",
       "      <td>3928.86</td>\n",
       "    </tr>\n",
       "    <tr>\n",
       "      <th>320</th>\n",
       "      <td>2023-03-23</td>\n",
       "      <td>106</td>\n",
       "      <td>3948.72</td>\n",
       "    </tr>\n",
       "  </tbody>\n",
       "</table>\n",
       "</div>"
      ],
      "text/plain": [
       "          Date  Bank_Stock_Price   S&P500\n",
       "316 2023-03-03               169  4045.64\n",
       "317 2022-08-23                53  4128.73\n",
       "318 2022-05-04               123  4300.17\n",
       "319 2023-01-18               142  3928.86\n",
       "320 2023-03-23               106  3948.72"
      ]
     },
     "execution_count": 49,
     "metadata": {},
     "output_type": "execute_result"
    }
   ],
   "source": [
    "merged_df.tail()"
   ]
  },
  {
   "cell_type": "markdown",
   "metadata": {},
   "source": [
    "Details: Inspect the initial rows of the merged data and tail() displays the first few rows, allowing you to verify that the merge worked correctly and that the columns (Date, Bank_Stock_Price, and S&P500) contain the expected data."
   ]
  }
 ],
 "metadata": {
  "kernelspec": {
   "display_name": "venv",
   "language": "python",
   "name": "python3"
  },
  "language_info": {
   "codemirror_mode": {
    "name": "ipython",
    "version": 3
   },
   "file_extension": ".py",
   "mimetype": "text/x-python",
   "name": "python",
   "nbconvert_exporter": "python",
   "pygments_lexer": "ipython3",
   "version": "3.12.4"
  }
 },
 "nbformat": 4,
 "nbformat_minor": 2
}
